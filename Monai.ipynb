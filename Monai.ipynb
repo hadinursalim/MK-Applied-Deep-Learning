{
  "nbformat": 4,
  "nbformat_minor": 0,
  "metadata": {
    "colab": {
      "name": "Monai.ipynb",
      "provenance": [],
      "authorship_tag": "ABX9TyOWKt+6GuF+vkYZiiuC21Ub",
      "include_colab_link": true
    },
    "kernelspec": {
      "name": "python3",
      "display_name": "Python 3"
    },
    "language_info": {
      "name": "python"
    },
    "accelerator": "GPU"
  },
  "cells": [
    {
      "cell_type": "markdown",
      "metadata": {
        "id": "view-in-github",
        "colab_type": "text"
      },
      "source": [
        "<a href=\"https://colab.research.google.com/github/hadinursalim/MK-Applied-Deep-Learning/blob/main/Monai.ipynb\" target=\"_parent\"><img src=\"https://colab.research.google.com/assets/colab-badge.svg\" alt=\"Open In Colab\"/></a>"
      ]
    },
    {
      "cell_type": "markdown",
      "source": [
        "# **Medical Image Classification Tutorial with the MedNIST Dataset**\n",
        "\n",
        "In this tutorial, we introduce an end-to-end training and evaluation example based on the MedNIST dataset.\n",
        "\n",
        "We'll go through the following steps:\n",
        "\n",
        "* Create a dataset for training and testing\n",
        "* Use MONAI transforms to pre-process data\n",
        "* Use the DenseNet from MONAI for classification\n",
        "* Train the model with a PyTorch program\n",
        "* Evaluate on test dataset"
      ],
      "metadata": {
        "id": "3vxiW_23b4uc"
      }
    },
    {
      "cell_type": "markdown",
      "source": [
        "**Setup environment**"
      ],
      "metadata": {
        "id": "BH7NKb8CcN8p"
      }
    },
    {
      "cell_type": "code",
      "execution_count": 1,
      "metadata": {
        "colab": {
          "base_uri": "https://localhost:8080/"
        },
        "id": "SO_6Sp72bwnS",
        "outputId": "f31cceff-e299-4b9b-8d50-12c7990c5d9b"
      },
      "outputs": [
        {
          "output_type": "stream",
          "name": "stdout",
          "text": [
            "Traceback (most recent call last):\n",
            "  File \"<string>\", line 1, in <module>\n",
            "ModuleNotFoundError: No module named 'monai'\n",
            "\u001b[K     |████████████████████████████████| 835 kB 29.1 MB/s \n",
            "\u001b[?25h"
          ]
        }
      ],
      "source": [
        "!python -c \"import monai\" || pip install -q \"monai-weekly[pillow, tqdm]\"\n",
        "!python -c \"import matplotlib\" || pip install -q matplotlib\n",
        "%matplotlib inline"
      ]
    },
    {
      "cell_type": "markdown",
      "source": [
        "**Setup imports**"
      ],
      "metadata": {
        "id": "dr36aObQcVVQ"
      }
    },
    {
      "cell_type": "code",
      "source": [
        "# Copyright 2020 MONAI Consortium\n",
        "# Licensed under the Apache License, Version 2.0 (the \"License\");\n",
        "# you may not use this file except in compliance with the License.\n",
        "# You may obtain a copy of the License at\n",
        "#     http://www.apache.org/licenses/LICENSE-2.0\n",
        "# Unless required by applicable law or agreed to in writing, software\n",
        "# distributed under the License is distributed on an \"AS IS\" BASIS,\n",
        "# WITHOUT WARRANTIES OR CONDITIONS OF ANY KIND, either express or implied.\n",
        "# See the License for the specific language governing permissions and\n",
        "# limitations under the License.\n",
        "\n",
        "import os\n",
        "import shutil\n",
        "import tempfile\n",
        "import matplotlib.pyplot as plt\n",
        "import PIL\n",
        "import torch\n",
        "import numpy as np\n",
        "from sklearn.metrics import classification_report\n",
        "\n",
        "from monai.apps import download_and_extract\n",
        "from monai.config import print_config\n",
        "from monai.data import decollate_batch\n",
        "from monai.metrics import ROCAUCMetric\n",
        "from monai.networks.nets import DenseNet121\n",
        "from monai.transforms import (\n",
        "    Activations,\n",
        "    AddChannel,\n",
        "    AsDiscrete,\n",
        "    Compose,\n",
        "    LoadImage,\n",
        "    RandFlip,\n",
        "    RandRotate,\n",
        "    RandZoom,\n",
        "    ScaleIntensity,\n",
        "    EnsureType,\n",
        ")\n",
        "from monai.utils import set_determinism\n",
        "\n",
        "print_config()"
      ],
      "metadata": {
        "colab": {
          "base_uri": "https://localhost:8080/"
        },
        "id": "xCRE2_n-cZw_",
        "outputId": "af12ceb7-25b6-4baf-eee2-04f5c378b320"
      },
      "execution_count": 2,
      "outputs": [
        {
          "output_type": "stream",
          "name": "stdout",
          "text": [
            "MONAI version: 0.9.dev2221\n",
            "Numpy version: 1.21.6\n",
            "Pytorch version: 1.11.0+cu113\n",
            "MONAI flags: HAS_EXT = False, USE_COMPILED = False\n",
            "MONAI rev id: e710e09df79fcceadd37b8b0ccfcd12074a8e000\n",
            "MONAI __file__: /usr/local/lib/python3.7/dist-packages/monai/__init__.py\n",
            "\n",
            "Optional dependencies:\n",
            "Pytorch Ignite version: NOT INSTALLED or UNKNOWN VERSION.\n",
            "Nibabel version: 3.0.2\n",
            "scikit-image version: 0.18.3\n",
            "Pillow version: 7.1.2\n",
            "Tensorboard version: 2.8.0\n",
            "gdown version: 4.4.0\n",
            "TorchVision version: 0.12.0+cu113\n",
            "tqdm version: 4.64.0\n",
            "lmdb version: 0.99\n",
            "psutil version: 5.4.8\n",
            "pandas version: 1.3.5\n",
            "einops version: NOT INSTALLED or UNKNOWN VERSION.\n",
            "transformers version: NOT INSTALLED or UNKNOWN VERSION.\n",
            "mlflow version: NOT INSTALLED or UNKNOWN VERSION.\n",
            "pynrrd version: NOT INSTALLED or UNKNOWN VERSION.\n",
            "\n",
            "For details about installing the optional dependencies, please visit:\n",
            "    https://docs.monai.io/en/latest/installation.html#installing-the-recommended-dependencies\n",
            "\n"
          ]
        }
      ]
    },
    {
      "cell_type": "markdown",
      "source": [
        "**Setup data directory**\n",
        "\n",
        "You can specify a directory with the MONAI_DATA_DIRECTORY environment variable.\n",
        "This allows you to save results and reuse downloads.\n",
        "If not specified a temporary directory will be used."
      ],
      "metadata": {
        "id": "2HrdOuhbcf0Q"
      }
    },
    {
      "cell_type": "code",
      "source": [
        "directory = os.environ.get(\"MONAI_DATA_DIRECTORY\")\n",
        "root_dir = tempfile.mkdtemp() if directory is None else directory\n",
        "print(root_dir)"
      ],
      "metadata": {
        "colab": {
          "base_uri": "https://localhost:8080/"
        },
        "id": "T7uKNt13ckFE",
        "outputId": "0aea473d-e947-4312-93de-81d22128bb48"
      },
      "execution_count": 3,
      "outputs": [
        {
          "output_type": "stream",
          "name": "stdout",
          "text": [
            "/tmp/tmpwrcvzhux\n"
          ]
        }
      ]
    },
    {
      "cell_type": "markdown",
      "source": [
        "**Download dataset**\n",
        "\n",
        "The MedNIST dataset was gathered from several sets from TCIA, the RSNA Bone Age Challenge, and the NIH Chest X-ray dataset.\n",
        "\n",
        "The dataset is kindly made available by Dr. Bradley J. Erickson M.D., Ph.D. (Department of Radiology, Mayo Clinic) under the Creative Commons CC BY-SA 4.0 license.\n",
        "\n",
        "If you use the MedNIST dataset, please acknowledge the source."
      ],
      "metadata": {
        "id": "7sFdRNrwcqKb"
      }
    },
    {
      "cell_type": "code",
      "source": [
        "resource = \"https://github.com/Project-MONAI/MONAI-extra-test-data/releases/download/0.8.1/MedNIST.tar.gz\"\n",
        "md5 = \"0bc7306e7427e00ad1c5526a6677552d\"\n",
        "\n",
        "compressed_file = os.path.join(root_dir, \"MedNIST.tar.gz\")\n",
        "data_dir = os.path.join(root_dir, \"MedNIST\")\n",
        "if not os.path.exists(data_dir):\n",
        "    download_and_extract(resource, compressed_file, root_dir, md5)"
      ],
      "metadata": {
        "colab": {
          "base_uri": "https://localhost:8080/"
        },
        "id": "jkAQ3_Wlct39",
        "outputId": "155c8749-2883-413c-efdd-4ade48400bf7"
      },
      "execution_count": 4,
      "outputs": [
        {
          "output_type": "stream",
          "name": "stderr",
          "text": [
            "MedNIST.tar.gz: 59.0MB [00:00, 75.8MB/s]                            "
          ]
        },
        {
          "output_type": "stream",
          "name": "stdout",
          "text": [
            "2022-05-28 16:14:42,907 - INFO - Downloaded: /tmp/tmpwrcvzhux/MedNIST.tar.gz\n",
            "2022-05-28 16:14:43,029 - INFO - Verified 'MedNIST.tar.gz', md5: 0bc7306e7427e00ad1c5526a6677552d.\n",
            "2022-05-28 16:14:43,031 - INFO - Writing into directory: /tmp/tmpwrcvzhux.\n"
          ]
        },
        {
          "output_type": "stream",
          "name": "stderr",
          "text": [
            "\n"
          ]
        }
      ]
    },
    {
      "cell_type": "markdown",
      "source": [
        "**Set deterministic training for reproducibility**"
      ],
      "metadata": {
        "id": "fydkbOfmc1Ex"
      }
    },
    {
      "cell_type": "code",
      "source": [
        "set_determinism(seed=0)"
      ],
      "metadata": {
        "id": "nZvTAh_7c4bq"
      },
      "execution_count": 5,
      "outputs": []
    },
    {
      "cell_type": "markdown",
      "source": [
        "**Read image filenames from the dataset folders**\n",
        "\n",
        "First of all, check the dataset files and show some statistics.\n",
        "There are 6 folders in the dataset: Hand, AbdomenCT, CXR, ChestCT, BreastMRI, HeadCT,\n",
        "which should be used as the labels to train our classification model."
      ],
      "metadata": {
        "id": "9NDE_MJXc7bJ"
      }
    },
    {
      "cell_type": "code",
      "source": [
        "class_names = sorted(x for x in os.listdir(data_dir)\n",
        "                     if os.path.isdir(os.path.join(data_dir, x)))\n",
        "num_class = len(class_names)\n",
        "image_files = [\n",
        "    [\n",
        "        os.path.join(data_dir, class_names[i], x)\n",
        "        for x in os.listdir(os.path.join(data_dir, class_names[i]))\n",
        "    ]\n",
        "    for i in range(num_class)\n",
        "]\n",
        "num_each = [len(image_files[i]) for i in range(num_class)]\n",
        "image_files_list = []\n",
        "image_class = []\n",
        "for i in range(num_class):\n",
        "    image_files_list.extend(image_files[i])\n",
        "    image_class.extend([i] * num_each[i])\n",
        "num_total = len(image_class)\n",
        "image_width, image_height = PIL.Image.open(image_files_list[0]).size\n",
        "\n",
        "print(f\"Total image count: {num_total}\")\n",
        "print(f\"Image dimensions: {image_width} x {image_height}\")\n",
        "print(f\"Label names: {class_names}\")\n",
        "print(f\"Label counts: {num_each}\")"
      ],
      "metadata": {
        "colab": {
          "base_uri": "https://localhost:8080/"
        },
        "id": "nO86kNORc_fq",
        "outputId": "48e8c918-0080-4c9e-b828-dc9e203176bf"
      },
      "execution_count": 6,
      "outputs": [
        {
          "output_type": "stream",
          "name": "stdout",
          "text": [
            "Total image count: 58954\n",
            "Image dimensions: 64 x 64\n",
            "Label names: ['AbdomenCT', 'BreastMRI', 'CXR', 'ChestCT', 'Hand', 'HeadCT']\n",
            "Label counts: [10000, 8954, 10000, 10000, 10000, 10000]\n"
          ]
        }
      ]
    },
    {
      "cell_type": "markdown",
      "source": [
        "**Randomly pick images from the dataset to visualize and check**"
      ],
      "metadata": {
        "id": "AZx9EYtsdDI1"
      }
    },
    {
      "cell_type": "code",
      "source": [
        "plt.subplots(3, 3, figsize=(8, 8))\n",
        "for i, k in enumerate(np.random.randint(num_total, size=9)):\n",
        "    im = PIL.Image.open(image_files_list[k])\n",
        "    arr = np.array(im)\n",
        "    plt.subplot(3, 3, i + 1)\n",
        "    plt.xlabel(class_names[image_class[k]])\n",
        "    plt.imshow(arr, cmap=\"gray\", vmin=0, vmax=255)\n",
        "plt.tight_layout()\n",
        "plt.show()"
      ],
      "metadata": {
        "colab": {
          "base_uri": "https://localhost:8080/",
          "height": 585
        },
        "id": "rczo-2-zdF4j",
        "outputId": "957eba20-8aa6-4478-fa5b-8b2d5dd43742"
      },
      "execution_count": 7,
      "outputs": [
        {
          "output_type": "display_data",
          "data": {
            "text/plain": [
              "<Figure size 576x576 with 9 Axes>"
            ],
            "image/png": "[encoded data removed]"
          },
          "metadata": {
            "needs_background": "light"
          }
        }
      ]
    },
    {
      "cell_type": "markdown",
      "source": [
        "**Prepare training, validation and test data lists**\n",
        "\n",
        "Randomly select 10% of the dataset as validation and 10% as test."
      ],
      "metadata": {
        "id": "dQKzfjrudKfy"
      }
    },
    {
      "cell_type": "code",
      "source": [
        "val_frac = 0.1\n",
        "test_frac = 0.1\n",
        "length = len(image_files_list)\n",
        "indices = np.arange(length)\n",
        "np.random.shuffle(indices)\n",
        "\n",
        "test_split = int(test_frac * length)\n",
        "val_split = int(val_frac * length) + test_split\n",
        "test_indices = indices[:test_split]\n",
        "val_indices = indices[test_split:val_split]\n",
        "train_indices = indices[val_split:]\n",
        "\n",
        "train_x = [image_files_list[i] for i in train_indices]\n",
        "train_y = [image_class[i] for i in train_indices]\n",
        "val_x = [image_files_list[i] for i in val_indices]\n",
        "val_y = [image_class[i] for i in val_indices]\n",
        "test_x = [image_files_list[i] for i in test_indices]\n",
        "test_y = [image_class[i] for i in test_indices]\n",
        "\n",
        "print(\n",
        "    f\"Training count: {len(train_x)}, Validation count: \"\n",
        "    f\"{len(val_x)}, Test count: {len(test_x)}\")"
      ],
      "metadata": {
        "colab": {
          "base_uri": "https://localhost:8080/"
        },
        "id": "m9TVhHcvdOyM",
        "outputId": "663f562c-7cd7-49d8-a54c-a7d00f6624a9"
      },
      "execution_count": 8,
      "outputs": [
        {
          "output_type": "stream",
          "name": "stdout",
          "text": [
            "Training count: 47164, Validation count: 5895, Test count: 5895\n"
          ]
        }
      ]
    },
    {
      "cell_type": "markdown",
      "source": [
        "**Define MONAI transforms, Dataset and Dataloader to pre-process data**"
      ],
      "metadata": {
        "id": "zxwg1YjedSjx"
      }
    },
    {
      "cell_type": "code",
      "source": [
        "train_transforms = Compose(\n",
        "    [\n",
        "        LoadImage(image_only=True),\n",
        "        AddChannel(),\n",
        "        ScaleIntensity(),\n",
        "        RandRotate(range_x=np.pi / 12, prob=0.5, keep_size=True),\n",
        "        RandFlip(spatial_axis=0, prob=0.5),\n",
        "        RandZoom(min_zoom=0.9, max_zoom=1.1, prob=0.5),\n",
        "        EnsureType(),\n",
        "    ]\n",
        ")\n",
        "\n",
        "val_transforms = Compose(\n",
        "    [LoadImage(image_only=True), AddChannel(), ScaleIntensity(), EnsureType()])\n",
        "\n",
        "y_pred_trans = Compose([EnsureType(), Activations(softmax=True)])\n",
        "y_trans = Compose([EnsureType(), AsDiscrete(to_onehot=num_class)])"
      ],
      "metadata": {
        "id": "qHw1-e8vdVmS"
      },
      "execution_count": 9,
      "outputs": []
    },
    {
      "cell_type": "code",
      "source": [
        "class MedNISTDataset(torch.utils.data.Dataset):\n",
        "    def __init__(self, image_files, labels, transforms):\n",
        "        self.image_files = image_files\n",
        "        self.labels = labels\n",
        "        self.transforms = transforms\n",
        "\n",
        "    def __len__(self):\n",
        "        return len(self.image_files)\n",
        "\n",
        "    def __getitem__(self, index):\n",
        "        return self.transforms(self.image_files[index]), self.labels[index]\n",
        "\n",
        "\n",
        "train_ds = MedNISTDataset(train_x, train_y, train_transforms)\n",
        "train_loader = torch.utils.data.DataLoader(\n",
        "    train_ds, batch_size=300, shuffle=True, num_workers=10)\n",
        "\n",
        "val_ds = MedNISTDataset(val_x, val_y, val_transforms)\n",
        "val_loader = torch.utils.data.DataLoader(\n",
        "    val_ds, batch_size=300, num_workers=10)\n",
        "\n",
        "test_ds = MedNISTDataset(test_x, test_y, val_transforms)\n",
        "test_loader = torch.utils.data.DataLoader(\n",
        "    test_ds, batch_size=300, num_workers=10)"
      ],
      "metadata": {
        "colab": {
          "base_uri": "https://localhost:8080/"
        },
        "id": "Ee7xZ_QIdYdJ",
        "outputId": "ac396687-7f21-4d8a-a00e-066f6c3159ba"
      },
      "execution_count": 10,
      "outputs": [
        {
          "output_type": "stream",
          "name": "stderr",
          "text": [
            "/usr/local/lib/python3.7/dist-packages/torch/utils/data/dataloader.py:490: UserWarning: This DataLoader will create 10 worker processes in total. Our suggested max number of worker in current system is 2, which is smaller than what this DataLoader is going to create. Please be aware that excessive worker creation might get DataLoader running slow or even freeze, lower the worker number to avoid potential slowness/freeze if necessary.\n",
            "  cpuset_checked))\n"
          ]
        }
      ]
    },
    {
      "cell_type": "markdown",
      "source": [
        "**Define network and optimizer**\n",
        "\n",
        "1. Set learning rate for how much the model is updated per batch.\n",
        "2. Set total epoch number, as we have shuffle and random transforms, so the training data of every epoch is different.\n",
        "And as this is just a get start tutorial, let's just train 4 epochs.\n",
        "If train 10 epochs, the model can achieve 100% accuracy on test dataset.\n",
        "3. Use DenseNet from MONAI and move to GPU devide, this DenseNet can support both 2D and 3D classification tasks.\n",
        "4. Use Adam optimizer."
      ],
      "metadata": {
        "id": "q2y3R0Bydb85"
      }
    },
    {
      "cell_type": "code",
      "source": [
        "device = torch.device(\"cuda\" if torch.cuda.is_available() else \"cpu\")\n",
        "model = DenseNet121(spatial_dims=2, in_channels=1,\n",
        "                    out_channels=num_class).to(device)\n",
        "loss_function = torch.nn.CrossEntropyLoss()\n",
        "optimizer = torch.optim.Adam(model.parameters(), 1e-5)\n",
        "max_epochs = 4\n",
        "val_interval = 1\n",
        "auc_metric = ROCAUCMetric()"
      ],
      "metadata": {
        "id": "nCJRMqH5dwJQ"
      },
      "execution_count": 11,
      "outputs": []
    },
    {
      "cell_type": "markdown",
      "source": [
        "**Model training**\n",
        "\n",
        "Execute a typical PyTorch training that run epoch loop and step loop, and do validation after every epoch.\n",
        "Will save the model weights to file if got best validation accuracy."
      ],
      "metadata": {
        "id": "4bzqKUiVdzf1"
      }
    },
    {
      "cell_type": "code",
      "source": [
        "best_metric = -1\n",
        "best_metric_epoch = -1\n",
        "epoch_loss_values = []\n",
        "metric_values = []\n",
        "\n",
        "for epoch in range(max_epochs):\n",
        "    print(\"-\" * 10)\n",
        "    print(f\"epoch {epoch + 1}/{max_epochs}\")\n",
        "    model.train()\n",
        "    epoch_loss = 0\n",
        "    step = 0\n",
        "    for batch_data in train_loader:\n",
        "        step += 1\n",
        "        inputs, labels = batch_data[0].to(device), batch_data[1].to(device)\n",
        "        optimizer.zero_grad()\n",
        "        outputs = model(inputs)\n",
        "        loss = loss_function(outputs, labels)\n",
        "        loss.backward()\n",
        "        optimizer.step()\n",
        "        epoch_loss += loss.item()\n",
        "        print(\n",
        "            f\"{step}/{len(train_ds) // train_loader.batch_size}, \"\n",
        "            f\"train_loss: {loss.item():.4f}\")\n",
        "        epoch_len = len(train_ds) // train_loader.batch_size\n",
        "    epoch_loss /= step\n",
        "    epoch_loss_values.append(epoch_loss)\n",
        "    print(f\"epoch {epoch + 1} average loss: {epoch_loss:.4f}\")\n",
        "\n",
        "    if (epoch + 1) % val_interval == 0:\n",
        "        model.eval()\n",
        "        with torch.no_grad():\n",
        "            y_pred = torch.tensor([], dtype=torch.float32, device=device)\n",
        "            y = torch.tensor([], dtype=torch.long, device=device)\n",
        "            for val_data in val_loader:\n",
        "                val_images, val_labels = (\n",
        "                    val_data[0].to(device),\n",
        "                    val_data[1].to(device),\n",
        "                )\n",
        "                y_pred = torch.cat([y_pred, model(val_images)], dim=0)\n",
        "                y = torch.cat([y, val_labels], dim=0)\n",
        "            y_onehot = [y_trans(i) for i in decollate_batch(y)]\n",
        "            y_pred_act = [y_pred_trans(i) for i in decollate_batch(y_pred)]\n",
        "            auc_metric(y_pred_act, y_onehot)\n",
        "            result = auc_metric.aggregate()\n",
        "            auc_metric.reset()\n",
        "            del y_pred_act, y_onehot\n",
        "            metric_values.append(result)\n",
        "            acc_value = torch.eq(y_pred.argmax(dim=1), y)\n",
        "            acc_metric = acc_value.sum().item() / len(acc_value)\n",
        "            if result > best_metric:\n",
        "                best_metric = result\n",
        "                best_metric_epoch = epoch + 1\n",
        "                torch.save(model.state_dict(), os.path.join(\n",
        "                    root_dir, \"best_metric_model.pth\"))\n",
        "                print(\"saved new best metric model\")\n",
        "            print(\n",
        "                f\"current epoch: {epoch + 1} current AUC: {result:.4f}\"\n",
        "                f\" current accuracy: {acc_metric:.4f}\"\n",
        "                f\" best AUC: {best_metric:.4f}\"\n",
        "                f\" at epoch: {best_metric_epoch}\"\n",
        "            )\n",
        "\n",
        "print(\n",
        "    f\"train completed, best_metric: {best_metric:.4f} \"\n",
        "    f\"at epoch: {best_metric_epoch}\")"
      ],
      "metadata": {
        "colab": {
          "base_uri": "https://localhost:8080/"
        },
        "id": "Ty66Fu6nd3zJ",
        "outputId": "664a1202-9c2d-42be-fa90-c802b5503bbc"
      },
      "execution_count": 12,
      "outputs": [
        {
          "output_type": "stream",
          "name": "stdout",
          "text": [
            "----------\n",
            "epoch 1/4\n"
          ]
        },
        {
          "output_type": "stream",
          "name": "stderr",
          "text": [
            "/usr/local/lib/python3.7/dist-packages/torch/utils/data/dataloader.py:490: UserWarning: This DataLoader will create 10 worker processes in total. Our suggested max number of worker in current system is 2, which is smaller than what this DataLoader is going to create. Please be aware that excessive worker creation might get DataLoader running slow or even freeze, lower the worker number to avoid potential slowness/freeze if necessary.\n",
            "  cpuset_checked))\n"
          ]
        },
        {
          "output_type": "stream",
          "name": "stdout",
          "text": [
            "1/157, train_loss: 1.7957\n",
            "2/157, train_loss: 1.7483\n",
            "3/157, train_loss: 1.7368\n",
            "4/157, train_loss: 1.7115\n",
            "5/157, train_loss: 1.6778\n",
            "6/157, train_loss: 1.6512\n",
            "7/157, train_loss: 1.6251\n",
            "8/157, train_loss: 1.6006\n",
            "9/157, train_loss: 1.5828\n",
            "10/157, train_loss: 1.5491\n",
            "11/157, train_loss: 1.5246\n",
            "12/157, train_loss: 1.4943\n",
            "13/157, train_loss: 1.4954\n",
            "14/157, train_loss: 1.4708\n",
            "15/157, train_loss: 1.4532\n",
            "16/157, train_loss: 1.4095\n",
            "17/157, train_loss: 1.4150\n",
            "18/157, train_loss: 1.3897\n",
            "19/157, train_loss: 1.3644\n",
            "20/157, train_loss: 1.3524\n",
            "21/157, train_loss: 1.3041\n",
            "22/157, train_loss: 1.2634\n",
            "23/157, train_loss: 1.2686\n",
            "24/157, train_loss: 1.2791\n",
            "25/157, train_loss: 1.2757\n",
            "26/157, train_loss: 1.2302\n",
            "27/157, train_loss: 1.2022\n",
            "28/157, train_loss: 1.1986\n",
            "29/157, train_loss: 1.1768\n",
            "30/157, train_loss: 1.1819\n",
            "31/157, train_loss: 1.1723\n",
            "32/157, train_loss: 1.1423\n",
            "33/157, train_loss: 1.1355\n",
            "34/157, train_loss: 1.0977\n",
            "35/157, train_loss: 1.0894\n",
            "36/157, train_loss: 1.0669\n",
            "37/157, train_loss: 1.0414\n",
            "38/157, train_loss: 1.0523\n",
            "39/157, train_loss: 1.0773\n",
            "40/157, train_loss: 1.0359\n",
            "41/157, train_loss: 1.0550\n",
            "42/157, train_loss: 0.9874\n",
            "43/157, train_loss: 0.9974\n",
            "44/157, train_loss: 0.9585\n",
            "45/157, train_loss: 0.9559\n",
            "46/157, train_loss: 0.9361\n",
            "47/157, train_loss: 0.9514\n",
            "48/157, train_loss: 0.9017\n",
            "49/157, train_loss: 0.9092\n",
            "50/157, train_loss: 0.8762\n",
            "51/157, train_loss: 0.8958\n",
            "52/157, train_loss: 0.8733\n",
            "53/157, train_loss: 0.8687\n",
            "54/157, train_loss: 0.8191\n",
            "55/157, train_loss: 0.8260\n",
            "56/157, train_loss: 0.8093\n",
            "57/157, train_loss: 0.8353\n",
            "58/157, train_loss: 0.8237\n",
            "59/157, train_loss: 0.7763\n",
            "60/157, train_loss: 0.8118\n",
            "61/157, train_loss: 0.7588\n",
            "62/157, train_loss: 0.7407\n",
            "63/157, train_loss: 0.7190\n",
            "64/157, train_loss: 0.7384\n",
            "65/157, train_loss: 0.7061\n",
            "66/157, train_loss: 0.7219\n",
            "67/157, train_loss: 0.7157\n",
            "68/157, train_loss: 0.6730\n",
            "69/157, train_loss: 0.6833\n",
            "70/157, train_loss: 0.6444\n",
            "71/157, train_loss: 0.6830\n",
            "72/157, train_loss: 0.6434\n",
            "73/157, train_loss: 0.6486\n",
            "74/157, train_loss: 0.6111\n",
            "75/157, train_loss: 0.6201\n",
            "76/157, train_loss: 0.6367\n",
            "77/157, train_loss: 0.6052\n",
            "78/157, train_loss: 0.6246\n",
            "79/157, train_loss: 0.5927\n",
            "80/157, train_loss: 0.6068\n",
            "81/157, train_loss: 0.5858\n",
            "82/157, train_loss: 0.6071\n",
            "83/157, train_loss: 0.6041\n",
            "84/157, train_loss: 0.5353\n",
            "85/157, train_loss: 0.5601\n",
            "86/157, train_loss: 0.5766\n",
            "87/157, train_loss: 0.5260\n",
            "88/157, train_loss: 0.5306\n",
            "89/157, train_loss: 0.5371\n",
            "90/157, train_loss: 0.4980\n",
            "91/157, train_loss: 0.5009\n",
            "92/157, train_loss: 0.4869\n",
            "93/157, train_loss: 0.4950\n",
            "94/157, train_loss: 0.5049\n",
            "95/157, train_loss: 0.4667\n",
            "96/157, train_loss: 0.4752\n",
            "97/157, train_loss: 0.4452\n",
            "98/157, train_loss: 0.4341\n",
            "99/157, train_loss: 0.4627\n",
            "100/157, train_loss: 0.4315\n",
            "101/157, train_loss: 0.4451\n",
            "102/157, train_loss: 0.4257\n",
            "103/157, train_loss: 0.4414\n",
            "104/157, train_loss: 0.4329\n",
            "105/157, train_loss: 0.4478\n",
            "106/157, train_loss: 0.4239\n",
            "107/157, train_loss: 0.4116\n",
            "108/157, train_loss: 0.4034\n",
            "109/157, train_loss: 0.4019\n",
            "110/157, train_loss: 0.3763\n",
            "111/157, train_loss: 0.3829\n",
            "112/157, train_loss: 0.3931\n",
            "113/157, train_loss: 0.3644\n",
            "114/157, train_loss: 0.3882\n",
            "115/157, train_loss: 0.3598\n",
            "116/157, train_loss: 0.3656\n",
            "117/157, train_loss: 0.3642\n",
            "118/157, train_loss: 0.3453\n",
            "119/157, train_loss: 0.3509\n",
            "120/157, train_loss: 0.3282\n",
            "121/157, train_loss: 0.3406\n",
            "122/157, train_loss: 0.3529\n",
            "123/157, train_loss: 0.3120\n",
            "124/157, train_loss: 0.3198\n",
            "125/157, train_loss: 0.3734\n",
            "126/157, train_loss: 0.3432\n",
            "127/157, train_loss: 0.3347\n",
            "128/157, train_loss: 0.3415\n",
            "129/157, train_loss: 0.3535\n",
            "130/157, train_loss: 0.3085\n",
            "131/157, train_loss: 0.3306\n",
            "132/157, train_loss: 0.2745\n",
            "133/157, train_loss: 0.2821\n",
            "134/157, train_loss: 0.3126\n",
            "135/157, train_loss: 0.3226\n",
            "136/157, train_loss: 0.3231\n",
            "137/157, train_loss: 0.3136\n",
            "138/157, train_loss: 0.3063\n",
            "139/157, train_loss: 0.3221\n",
            "140/157, train_loss: 0.3207\n",
            "141/157, train_loss: 0.3002\n",
            "142/157, train_loss: 0.2677\n",
            "143/157, train_loss: 0.2757\n",
            "144/157, train_loss: 0.3366\n",
            "145/157, train_loss: 0.2683\n",
            "146/157, train_loss: 0.2885\n",
            "147/157, train_loss: 0.2800\n",
            "148/157, train_loss: 0.2982\n",
            "149/157, train_loss: 0.2849\n",
            "150/157, train_loss: 0.2552\n",
            "151/157, train_loss: 0.2495\n",
            "152/157, train_loss: 0.2646\n",
            "153/157, train_loss: 0.2850\n",
            "154/157, train_loss: 0.2522\n",
            "155/157, train_loss: 0.2684\n",
            "156/157, train_loss: 0.2428\n",
            "157/157, train_loss: 0.2301\n",
            "158/157, train_loss: 0.2357\n",
            "epoch 1 average loss: 0.7283\n",
            "saved new best metric model\n",
            "current epoch: 1 current AUC: 0.9980 current accuracy: 0.9617 best AUC: 0.9980 at epoch: 1\n",
            "----------\n",
            "epoch 2/4\n",
            "1/157, train_loss: 0.2445\n",
            "2/157, train_loss: 0.2340\n",
            "3/157, train_loss: 0.1948\n",
            "4/157, train_loss: 0.2247\n",
            "5/157, train_loss: 0.2598\n",
            "6/157, train_loss: 0.2340\n",
            "7/157, train_loss: 0.1982\n",
            "8/157, train_loss: 0.2396\n",
            "9/157, train_loss: 0.2208\n",
            "10/157, train_loss: 0.2482\n",
            "11/157, train_loss: 0.2395\n",
            "12/157, train_loss: 0.2555\n",
            "13/157, train_loss: 0.2075\n",
            "14/157, train_loss: 0.2305\n",
            "15/157, train_loss: 0.2132\n",
            "16/157, train_loss: 0.1830\n",
            "17/157, train_loss: 0.2061\n",
            "18/157, train_loss: 0.1963\n",
            "19/157, train_loss: 0.2409\n",
            "20/157, train_loss: 0.2043\n",
            "21/157, train_loss: 0.2042\n",
            "22/157, train_loss: 0.2310\n",
            "23/157, train_loss: 0.2120\n",
            "24/157, train_loss: 0.1920\n",
            "25/157, train_loss: 0.1960\n",
            "26/157, train_loss: 0.2197\n",
            "27/157, train_loss: 0.2138\n",
            "28/157, train_loss: 0.1939\n",
            "29/157, train_loss: 0.1769\n",
            "30/157, train_loss: 0.2226\n",
            "31/157, train_loss: 0.1867\n",
            "32/157, train_loss: 0.1944\n",
            "33/157, train_loss: 0.1923\n",
            "34/157, train_loss: 0.1718\n",
            "35/157, train_loss: 0.1578\n",
            "36/157, train_loss: 0.2010\n",
            "37/157, train_loss: 0.1764\n",
            "38/157, train_loss: 0.1862\n",
            "39/157, train_loss: 0.1844\n",
            "40/157, train_loss: 0.2026\n",
            "41/157, train_loss: 0.2009\n",
            "42/157, train_loss: 0.1426\n",
            "43/157, train_loss: 0.1607\n",
            "44/157, train_loss: 0.1494\n",
            "45/157, train_loss: 0.1593\n",
            "46/157, train_loss: 0.1789\n",
            "47/157, train_loss: 0.1723\n",
            "48/157, train_loss: 0.1618\n",
            "49/157, train_loss: 0.1845\n",
            "50/157, train_loss: 0.1705\n",
            "51/157, train_loss: 0.1778\n",
            "52/157, train_loss: 0.1786\n",
            "53/157, train_loss: 0.1787\n",
            "54/157, train_loss: 0.1910\n",
            "55/157, train_loss: 0.1821\n",
            "56/157, train_loss: 0.1522\n",
            "57/157, train_loss: 0.1566\n",
            "58/157, train_loss: 0.1526\n",
            "59/157, train_loss: 0.1491\n",
            "60/157, train_loss: 0.1606\n",
            "61/157, train_loss: 0.1604\n",
            "62/157, train_loss: 0.1622\n",
            "63/157, train_loss: 0.1513\n",
            "64/157, train_loss: 0.1375\n",
            "65/157, train_loss: 0.1630\n",
            "66/157, train_loss: 0.1559\n",
            "67/157, train_loss: 0.1512\n",
            "68/157, train_loss: 0.1330\n",
            "69/157, train_loss: 0.1370\n",
            "70/157, train_loss: 0.1443\n",
            "71/157, train_loss: 0.1593\n",
            "72/157, train_loss: 0.1401\n",
            "73/157, train_loss: 0.1338\n",
            "74/157, train_loss: 0.1348\n",
            "75/157, train_loss: 0.1599\n",
            "76/157, train_loss: 0.1458\n",
            "77/157, train_loss: 0.1180\n",
            "78/157, train_loss: 0.1238\n",
            "79/157, train_loss: 0.1492\n",
            "80/157, train_loss: 0.1183\n",
            "81/157, train_loss: 0.1290\n",
            "82/157, train_loss: 0.1336\n",
            "83/157, train_loss: 0.1292\n",
            "84/157, train_loss: 0.1325\n",
            "85/157, train_loss: 0.1234\n",
            "86/157, train_loss: 0.1528\n",
            "87/157, train_loss: 0.1110\n",
            "88/157, train_loss: 0.1262\n",
            "89/157, train_loss: 0.1297\n",
            "90/157, train_loss: 0.1107\n",
            "91/157, train_loss: 0.1337\n",
            "92/157, train_loss: 0.1376\n",
            "93/157, train_loss: 0.1091\n",
            "94/157, train_loss: 0.1422\n",
            "95/157, train_loss: 0.1153\n",
            "96/157, train_loss: 0.1227\n",
            "97/157, train_loss: 0.1224\n",
            "98/157, train_loss: 0.1152\n",
            "99/157, train_loss: 0.1092\n",
            "100/157, train_loss: 0.1246\n",
            "101/157, train_loss: 0.1060\n",
            "102/157, train_loss: 0.1282\n",
            "103/157, train_loss: 0.1167\n",
            "104/157, train_loss: 0.0866\n",
            "105/157, train_loss: 0.1038\n",
            "106/157, train_loss: 0.1294\n",
            "107/157, train_loss: 0.0818\n",
            "108/157, train_loss: 0.1079\n",
            "109/157, train_loss: 0.1030\n",
            "110/157, train_loss: 0.1200\n",
            "111/157, train_loss: 0.1115\n",
            "112/157, train_loss: 0.0961\n",
            "113/157, train_loss: 0.1400\n",
            "114/157, train_loss: 0.1070\n",
            "115/157, train_loss: 0.1293\n",
            "116/157, train_loss: 0.1013\n",
            "117/157, train_loss: 0.1115\n",
            "118/157, train_loss: 0.1183\n",
            "119/157, train_loss: 0.0844\n",
            "120/157, train_loss: 0.0854\n",
            "121/157, train_loss: 0.1081\n",
            "122/157, train_loss: 0.0891\n",
            "123/157, train_loss: 0.0909\n",
            "124/157, train_loss: 0.0998\n",
            "125/157, train_loss: 0.1131\n",
            "126/157, train_loss: 0.1387\n",
            "127/157, train_loss: 0.0957\n",
            "128/157, train_loss: 0.0934\n",
            "129/157, train_loss: 0.0984\n",
            "130/157, train_loss: 0.0830\n",
            "131/157, train_loss: 0.0925\n",
            "132/157, train_loss: 0.0915\n",
            "133/157, train_loss: 0.1170\n",
            "134/157, train_loss: 0.0968\n",
            "135/157, train_loss: 0.0870\n",
            "136/157, train_loss: 0.0940\n",
            "137/157, train_loss: 0.1091\n",
            "138/157, train_loss: 0.1175\n",
            "139/157, train_loss: 0.0854\n",
            "140/157, train_loss: 0.0972\n",
            "141/157, train_loss: 0.0657\n",
            "142/157, train_loss: 0.0842\n",
            "143/157, train_loss: 0.0859\n",
            "144/157, train_loss: 0.0845\n",
            "145/157, train_loss: 0.0678\n",
            "146/157, train_loss: 0.0736\n",
            "147/157, train_loss: 0.0842\n",
            "148/157, train_loss: 0.1288\n",
            "149/157, train_loss: 0.0810\n",
            "150/157, train_loss: 0.0923\n",
            "151/157, train_loss: 0.0962\n",
            "152/157, train_loss: 0.0931\n",
            "153/157, train_loss: 0.0985\n",
            "154/157, train_loss: 0.1035\n",
            "155/157, train_loss: 0.1049\n",
            "156/157, train_loss: 0.0796\n",
            "157/157, train_loss: 0.1000\n",
            "158/157, train_loss: 0.1031\n",
            "epoch 2 average loss: 0.1451\n",
            "saved new best metric model\n",
            "current epoch: 2 current AUC: 0.9997 current accuracy: 0.9868 best AUC: 0.9997 at epoch: 2\n",
            "----------\n",
            "epoch 3/4\n",
            "1/157, train_loss: 0.0792\n",
            "2/157, train_loss: 0.0774\n",
            "3/157, train_loss: 0.0665\n",
            "4/157, train_loss: 0.0923\n",
            "5/157, train_loss: 0.0726\n",
            "6/157, train_loss: 0.0922\n",
            "7/157, train_loss: 0.0767\n",
            "8/157, train_loss: 0.0790\n",
            "9/157, train_loss: 0.0844\n",
            "10/157, train_loss: 0.0958\n",
            "11/157, train_loss: 0.0898\n",
            "12/157, train_loss: 0.0932\n",
            "13/157, train_loss: 0.0981\n",
            "14/157, train_loss: 0.0890\n",
            "15/157, train_loss: 0.0743\n",
            "16/157, train_loss: 0.0780\n",
            "17/157, train_loss: 0.0758\n",
            "18/157, train_loss: 0.0826\n",
            "19/157, train_loss: 0.0760\n",
            "20/157, train_loss: 0.1029\n",
            "21/157, train_loss: 0.1062\n",
            "22/157, train_loss: 0.0597\n",
            "23/157, train_loss: 0.0975\n",
            "24/157, train_loss: 0.0836\n",
            "25/157, train_loss: 0.1148\n",
            "26/157, train_loss: 0.0960\n",
            "27/157, train_loss: 0.0589\n",
            "28/157, train_loss: 0.1105\n",
            "29/157, train_loss: 0.0908\n",
            "30/157, train_loss: 0.0889\n",
            "31/157, train_loss: 0.0597\n",
            "32/157, train_loss: 0.0582\n",
            "33/157, train_loss: 0.0685\n",
            "34/157, train_loss: 0.0860\n",
            "35/157, train_loss: 0.0823\n",
            "36/157, train_loss: 0.0917\n",
            "37/157, train_loss: 0.0591\n",
            "38/157, train_loss: 0.0543\n",
            "39/157, train_loss: 0.0784\n",
            "40/157, train_loss: 0.0671\n",
            "41/157, train_loss: 0.0884\n",
            "42/157, train_loss: 0.0890\n",
            "43/157, train_loss: 0.0753\n",
            "44/157, train_loss: 0.0755\n",
            "45/157, train_loss: 0.0875\n",
            "46/157, train_loss: 0.0757\n",
            "47/157, train_loss: 0.0668\n",
            "48/157, train_loss: 0.1025\n",
            "49/157, train_loss: 0.0636\n",
            "50/157, train_loss: 0.0826\n",
            "51/157, train_loss: 0.0607\n",
            "52/157, train_loss: 0.0612\n",
            "53/157, train_loss: 0.0551\n",
            "54/157, train_loss: 0.0666\n",
            "55/157, train_loss: 0.0765\n",
            "56/157, train_loss: 0.0752\n",
            "57/157, train_loss: 0.0760\n",
            "58/157, train_loss: 0.0628\n",
            "59/157, train_loss: 0.0723\n",
            "60/157, train_loss: 0.0857\n",
            "61/157, train_loss: 0.0636\n",
            "62/157, train_loss: 0.0744\n",
            "63/157, train_loss: 0.0599\n",
            "64/157, train_loss: 0.0528\n",
            "65/157, train_loss: 0.0715\n",
            "66/157, train_loss: 0.0693\n",
            "67/157, train_loss: 0.0560\n",
            "68/157, train_loss: 0.0799\n",
            "69/157, train_loss: 0.0586\n",
            "70/157, train_loss: 0.0534\n",
            "71/157, train_loss: 0.0776\n",
            "72/157, train_loss: 0.0505\n",
            "73/157, train_loss: 0.0547\n",
            "74/157, train_loss: 0.0689\n",
            "75/157, train_loss: 0.0537\n",
            "76/157, train_loss: 0.0658\n",
            "77/157, train_loss: 0.0469\n",
            "78/157, train_loss: 0.0599\n",
            "79/157, train_loss: 0.0627\n",
            "80/157, train_loss: 0.0653\n",
            "81/157, train_loss: 0.0476\n",
            "82/157, train_loss: 0.0578\n",
            "83/157, train_loss: 0.0550\n",
            "84/157, train_loss: 0.0542\n",
            "85/157, train_loss: 0.0670\n",
            "86/157, train_loss: 0.0826\n",
            "87/157, train_loss: 0.0678\n",
            "88/157, train_loss: 0.0507\n",
            "89/157, train_loss: 0.0561\n",
            "90/157, train_loss: 0.0775\n",
            "91/157, train_loss: 0.0529\n",
            "92/157, train_loss: 0.0642\n",
            "93/157, train_loss: 0.0736\n",
            "94/157, train_loss: 0.0556\n",
            "95/157, train_loss: 0.0669\n",
            "96/157, train_loss: 0.0608\n",
            "97/157, train_loss: 0.0616\n",
            "98/157, train_loss: 0.0580\n",
            "99/157, train_loss: 0.0598\n",
            "100/157, train_loss: 0.0560\n",
            "101/157, train_loss: 0.0471\n",
            "102/157, train_loss: 0.0524\n",
            "103/157, train_loss: 0.0607\n",
            "104/157, train_loss: 0.0523\n",
            "105/157, train_loss: 0.0666\n",
            "106/157, train_loss: 0.0458\n",
            "107/157, train_loss: 0.0590\n",
            "108/157, train_loss: 0.0750\n",
            "109/157, train_loss: 0.0693\n",
            "110/157, train_loss: 0.0446\n",
            "111/157, train_loss: 0.0466\n",
            "112/157, train_loss: 0.0523\n",
            "113/157, train_loss: 0.0487\n",
            "114/157, train_loss: 0.0451\n",
            "115/157, train_loss: 0.0644\n",
            "116/157, train_loss: 0.0553\n",
            "117/157, train_loss: 0.0524\n",
            "118/157, train_loss: 0.0539\n",
            "119/157, train_loss: 0.0763\n",
            "120/157, train_loss: 0.0775\n",
            "121/157, train_loss: 0.0534\n",
            "122/157, train_loss: 0.0458\n",
            "123/157, train_loss: 0.0637\n",
            "124/157, train_loss: 0.0515\n",
            "125/157, train_loss: 0.0565\n",
            "126/157, train_loss: 0.0553\n",
            "127/157, train_loss: 0.0530\n",
            "128/157, train_loss: 0.0438\n",
            "129/157, train_loss: 0.0373\n",
            "130/157, train_loss: 0.0468\n",
            "131/157, train_loss: 0.0520\n",
            "132/157, train_loss: 0.0419\n",
            "133/157, train_loss: 0.0661\n",
            "134/157, train_loss: 0.0642\n",
            "135/157, train_loss: 0.0476\n",
            "136/157, train_loss: 0.0483\n",
            "137/157, train_loss: 0.0438\n",
            "138/157, train_loss: 0.0682\n",
            "139/157, train_loss: 0.0467\n",
            "140/157, train_loss: 0.0546\n",
            "141/157, train_loss: 0.0502\n",
            "142/157, train_loss: 0.0362\n",
            "143/157, train_loss: 0.0409\n",
            "144/157, train_loss: 0.0428\n",
            "145/157, train_loss: 0.0493\n",
            "146/157, train_loss: 0.0491\n",
            "147/157, train_loss: 0.0449\n",
            "148/157, train_loss: 0.0568\n",
            "149/157, train_loss: 0.0394\n",
            "150/157, train_loss: 0.0672\n",
            "151/157, train_loss: 0.0319\n",
            "152/157, train_loss: 0.0317\n",
            "153/157, train_loss: 0.0489\n",
            "154/157, train_loss: 0.0530\n",
            "155/157, train_loss: 0.0578\n",
            "156/157, train_loss: 0.0630\n",
            "157/157, train_loss: 0.0598\n",
            "158/157, train_loss: 0.0777\n",
            "epoch 3 average loss: 0.0655\n",
            "saved new best metric model\n",
            "current epoch: 3 current AUC: 0.9999 current accuracy: 0.9913 best AUC: 0.9999 at epoch: 3\n",
            "----------\n",
            "epoch 4/4\n",
            "1/157, train_loss: 0.0325\n",
            "2/157, train_loss: 0.0410\n",
            "3/157, train_loss: 0.0379\n",
            "4/157, train_loss: 0.0472\n",
            "5/157, train_loss: 0.0663\n",
            "6/157, train_loss: 0.0850\n",
            "7/157, train_loss: 0.0526\n",
            "8/157, train_loss: 0.0346\n",
            "9/157, train_loss: 0.0412\n",
            "10/157, train_loss: 0.0397\n",
            "11/157, train_loss: 0.0381\n",
            "12/157, train_loss: 0.0492\n",
            "13/157, train_loss: 0.0447\n",
            "14/157, train_loss: 0.0517\n",
            "15/157, train_loss: 0.0465\n",
            "16/157, train_loss: 0.0592\n",
            "17/157, train_loss: 0.0474\n",
            "18/157, train_loss: 0.0518\n",
            "19/157, train_loss: 0.0421\n",
            "20/157, train_loss: 0.0561\n",
            "21/157, train_loss: 0.0511\n",
            "22/157, train_loss: 0.0431\n",
            "23/157, train_loss: 0.0529\n",
            "24/157, train_loss: 0.0500\n",
            "25/157, train_loss: 0.0472\n",
            "26/157, train_loss: 0.0493\n",
            "27/157, train_loss: 0.0445\n",
            "28/157, train_loss: 0.0327\n",
            "29/157, train_loss: 0.0382\n",
            "30/157, train_loss: 0.0444\n",
            "31/157, train_loss: 0.0415\n",
            "32/157, train_loss: 0.0411\n",
            "33/157, train_loss: 0.0549\n",
            "34/157, train_loss: 0.0636\n",
            "35/157, train_loss: 0.0342\n",
            "36/157, train_loss: 0.0431\n",
            "37/157, train_loss: 0.0654\n",
            "38/157, train_loss: 0.0325\n",
            "39/157, train_loss: 0.0408\n",
            "40/157, train_loss: 0.0406\n",
            "41/157, train_loss: 0.0431\n",
            "42/157, train_loss: 0.0284\n",
            "43/157, train_loss: 0.0632\n",
            "44/157, train_loss: 0.0347\n",
            "45/157, train_loss: 0.0399\n",
            "46/157, train_loss: 0.0335\n",
            "47/157, train_loss: 0.0298\n",
            "48/157, train_loss: 0.0483\n",
            "49/157, train_loss: 0.0430\n",
            "50/157, train_loss: 0.0425\n",
            "51/157, train_loss: 0.0408\n",
            "52/157, train_loss: 0.0293\n",
            "53/157, train_loss: 0.0680\n",
            "54/157, train_loss: 0.0438\n",
            "55/157, train_loss: 0.0372\n",
            "56/157, train_loss: 0.0347\n",
            "57/157, train_loss: 0.0348\n",
            "58/157, train_loss: 0.0320\n",
            "59/157, train_loss: 0.0388\n",
            "60/157, train_loss: 0.0360\n",
            "61/157, train_loss: 0.0435\n",
            "62/157, train_loss: 0.0278\n",
            "63/157, train_loss: 0.0281\n",
            "64/157, train_loss: 0.0389\n",
            "65/157, train_loss: 0.0292\n",
            "66/157, train_loss: 0.0266\n",
            "67/157, train_loss: 0.0243\n",
            "68/157, train_loss: 0.0414\n",
            "69/157, train_loss: 0.0387\n",
            "70/157, train_loss: 0.0254\n",
            "71/157, train_loss: 0.0342\n",
            "72/157, train_loss: 0.0331\n",
            "73/157, train_loss: 0.0385\n",
            "74/157, train_loss: 0.0347\n",
            "75/157, train_loss: 0.0513\n",
            "76/157, train_loss: 0.0490\n",
            "77/157, train_loss: 0.0383\n",
            "78/157, train_loss: 0.0327\n",
            "79/157, train_loss: 0.0339\n",
            "80/157, train_loss: 0.0316\n",
            "81/157, train_loss: 0.0267\n",
            "82/157, train_loss: 0.0539\n",
            "83/157, train_loss: 0.0247\n",
            "84/157, train_loss: 0.0323\n",
            "85/157, train_loss: 0.0294\n",
            "86/157, train_loss: 0.0385\n",
            "87/157, train_loss: 0.0334\n",
            "88/157, train_loss: 0.0255\n",
            "89/157, train_loss: 0.0447\n",
            "90/157, train_loss: 0.0428\n",
            "91/157, train_loss: 0.0378\n",
            "92/157, train_loss: 0.0419\n",
            "93/157, train_loss: 0.0421\n",
            "94/157, train_loss: 0.0409\n",
            "95/157, train_loss: 0.0383\n",
            "96/157, train_loss: 0.0475\n",
            "97/157, train_loss: 0.0702\n",
            "98/157, train_loss: 0.0475\n",
            "99/157, train_loss: 0.0237\n",
            "100/157, train_loss: 0.0295\n",
            "101/157, train_loss: 0.0414\n",
            "102/157, train_loss: 0.0358\n",
            "103/157, train_loss: 0.0288\n",
            "104/157, train_loss: 0.0284\n",
            "105/157, train_loss: 0.0307\n",
            "106/157, train_loss: 0.0484\n",
            "107/157, train_loss: 0.0471\n",
            "108/157, train_loss: 0.0229\n",
            "109/157, train_loss: 0.0510\n",
            "110/157, train_loss: 0.0333\n",
            "111/157, train_loss: 0.0307\n",
            "112/157, train_loss: 0.0287\n",
            "113/157, train_loss: 0.0472\n",
            "114/157, train_loss: 0.0350\n",
            "115/157, train_loss: 0.0481\n",
            "116/157, train_loss: 0.0381\n",
            "117/157, train_loss: 0.0321\n",
            "118/157, train_loss: 0.0235\n",
            "119/157, train_loss: 0.0384\n",
            "120/157, train_loss: 0.0391\n",
            "121/157, train_loss: 0.0349\n",
            "122/157, train_loss: 0.0376\n",
            "123/157, train_loss: 0.0356\n",
            "124/157, train_loss: 0.0389\n",
            "125/157, train_loss: 0.0519\n",
            "126/157, train_loss: 0.0500\n",
            "127/157, train_loss: 0.0504\n",
            "128/157, train_loss: 0.0250\n",
            "129/157, train_loss: 0.0241\n",
            "130/157, train_loss: 0.0638\n",
            "131/157, train_loss: 0.0341\n",
            "132/157, train_loss: 0.0430\n",
            "133/157, train_loss: 0.0270\n",
            "134/157, train_loss: 0.0316\n",
            "135/157, train_loss: 0.0370\n",
            "136/157, train_loss: 0.0203\n",
            "137/157, train_loss: 0.0252\n",
            "138/157, train_loss: 0.0277\n",
            "139/157, train_loss: 0.0231\n",
            "140/157, train_loss: 0.0259\n",
            "141/157, train_loss: 0.0269\n",
            "142/157, train_loss: 0.0234\n",
            "143/157, train_loss: 0.0412\n",
            "144/157, train_loss: 0.0218\n",
            "145/157, train_loss: 0.0293\n",
            "146/157, train_loss: 0.0409\n",
            "147/157, train_loss: 0.0311\n",
            "148/157, train_loss: 0.0223\n",
            "149/157, train_loss: 0.0421\n",
            "150/157, train_loss: 0.0228\n",
            "151/157, train_loss: 0.0245\n",
            "152/157, train_loss: 0.0194\n",
            "153/157, train_loss: 0.0312\n",
            "154/157, train_loss: 0.0440\n",
            "155/157, train_loss: 0.0399\n",
            "156/157, train_loss: 0.0270\n",
            "157/157, train_loss: 0.0387\n",
            "158/157, train_loss: 0.0366\n",
            "epoch 4 average loss: 0.0389\n",
            "saved new best metric model\n",
            "current epoch: 4 current AUC: 1.0000 current accuracy: 0.9947 best AUC: 1.0000 at epoch: 4\n",
            "train completed, best_metric: 1.0000 at epoch: 4\n"
          ]
        }
      ]
    },
    {
      "cell_type": "markdown",
      "source": [
        "**Plot the loss and metric**"
      ],
      "metadata": {
        "id": "t7g8TjO7d_AY"
      }
    },
    {
      "cell_type": "code",
      "source": [
        "plt.figure(\"train\", (12, 6))\n",
        "plt.subplot(1, 2, 1)\n",
        "plt.title(\"Epoch Average Loss\")\n",
        "x = [i + 1 for i in range(len(epoch_loss_values))]\n",
        "y = epoch_loss_values\n",
        "plt.xlabel(\"epoch\")\n",
        "plt.plot(x, y)\n",
        "plt.subplot(1, 2, 2)\n",
        "plt.title(\"Val AUC\")\n",
        "x = [val_interval * (i + 1) for i in range(len(metric_values))]\n",
        "y = metric_values\n",
        "plt.xlabel(\"epoch\")\n",
        "plt.plot(x, y)\n",
        "plt.show()"
      ],
      "metadata": {
        "colab": {
          "base_uri": "https://localhost:8080/",
          "height": 404
        },
        "id": "D65nWOFTeBt9",
        "outputId": "8c8c6eb6-4787-4f6d-9203-fddfb6c3b9be"
      },
      "execution_count": 13,
      "outputs": [
        {
          "output_type": "display_data",
          "data": {
            "text/plain": [
              "<Figure size 864x432 with 2 Axes>"
            ],
            "image/png": "[encoded data removed]"
          },
          "metadata": {
            "needs_background": "light"
          }
        }
      ]
    },
    {
      "cell_type": "markdown",
      "source": [
        "**Evaluate the model on test dataset**\n",
        "\n",
        "After training and validation, we already got the best model on validation test.\n",
        "We need to evaluate the model on test dataset to check whether it's robust and not over-fitting.\n",
        "We'll use these predictions to generate a classification report."
      ],
      "metadata": {
        "id": "3XScw3nbeEli"
      }
    },
    {
      "cell_type": "code",
      "source": [
        "model.load_state_dict(torch.load(\n",
        "    os.path.join(root_dir, \"best_metric_model.pth\")))\n",
        "model.eval()\n",
        "y_true = []\n",
        "y_pred = []\n",
        "with torch.no_grad():\n",
        "    for test_data in test_loader:\n",
        "        test_images, test_labels = (\n",
        "            test_data[0].to(device),\n",
        "            test_data[1].to(device),\n",
        "        )\n",
        "        pred = model(test_images).argmax(dim=1)\n",
        "        for i in range(len(pred)):\n",
        "            y_true.append(test_labels[i].item())\n",
        "            y_pred.append(pred[i].item())"
      ],
      "metadata": {
        "colab": {
          "base_uri": "https://localhost:8080/"
        },
        "id": "Gz8lT56xeIkB",
        "outputId": "406f4ea2-1750-4b0a-a752-26b35340f8c0"
      },
      "execution_count": 14,
      "outputs": [
        {
          "output_type": "stream",
          "name": "stderr",
          "text": [
            "/usr/local/lib/python3.7/dist-packages/torch/utils/data/dataloader.py:490: UserWarning: This DataLoader will create 10 worker processes in total. Our suggested max number of worker in current system is 2, which is smaller than what this DataLoader is going to create. Please be aware that excessive worker creation might get DataLoader running slow or even freeze, lower the worker number to avoid potential slowness/freeze if necessary.\n",
            "  cpuset_checked))\n"
          ]
        }
      ]
    },
    {
      "cell_type": "code",
      "source": [
        "print(classification_report(\n",
        "    y_true, y_pred, target_names=class_names, digits=4))"
      ],
      "metadata": {
        "colab": {
          "base_uri": "https://localhost:8080/"
        },
        "id": "nSgfSQ-3eK-n",
        "outputId": "fd8c5330-b8ed-4d44-cb8b-17f94e980da2"
      },
      "execution_count": 15,
      "outputs": [
        {
          "output_type": "stream",
          "name": "stdout",
          "text": [
            "              precision    recall  f1-score   support\n",
            "\n",
            "   AbdomenCT     0.9980    0.9960    0.9970       995\n",
            "   BreastMRI     0.9989    0.9977    0.9983       880\n",
            "         CXR     1.0000    0.9969    0.9985       982\n",
            "     ChestCT     0.9961    1.0000    0.9980      1014\n",
            "        Hand     0.9971    0.9971    0.9971      1048\n",
            "      HeadCT     0.9980    1.0000    0.9990       976\n",
            "\n",
            "    accuracy                         0.9980      5895\n",
            "   macro avg     0.9980    0.9980    0.9980      5895\n",
            "weighted avg     0.9980    0.9980    0.9980      5895\n",
            "\n"
          ]
        }
      ]
    },
    {
      "cell_type": "markdown",
      "source": [
        "**Cleanup data directory**\n",
        "\n",
        "Remove directory if a temporary was used."
      ],
      "metadata": {
        "id": "6T78cniWeNwk"
      }
    },
    {
      "cell_type": "code",
      "source": [
        "if directory is None:\n",
        "    shutil.rmtree(root_dir)"
      ],
      "metadata": {
        "id": "Vui0XOEseSqC"
      },
      "execution_count": 16,
      "outputs": []
    }
  ]
}