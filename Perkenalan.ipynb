{
  "nbformat": 4,
  "nbformat_minor": 0,
  "metadata": {
    "colab": {
      "name": "Perkenalan.ipynb",
      "provenance": [],
      "authorship_tag": "ABX9TyMoO/G9/CBHxVYCa5WOrUR/",
      "include_colab_link": true
    },
    "kernelspec": {
      "name": "python3",
      "display_name": "Python 3"
    },
    "language_info": {
      "name": "python"
    },
    "accelerator": "GPU"
  },
  "cells": [
    {
      "cell_type": "markdown",
      "metadata": {
        "id": "view-in-github",
        "colab_type": "text"
      },
      "source": [
        "<a href=\"https://colab.research.google.com/github/hadinursalim/MK-Applied-Deep-Learning/blob/main/Perkenalan.ipynb\" target=\"_parent\"><img src=\"https://colab.research.google.com/assets/colab-badge.svg\" alt=\"Open In Colab\"/></a>"
      ]
    },
    {
      "cell_type": "code",
      "execution_count": 2,
      "metadata": {
        "colab": {
          "base_uri": "https://localhost:8080/"
        },
        "id": "d_bncuA6D7yG",
        "outputId": "2d841638-6087-491f-8d7c-db0dd856417c"
      },
      "outputs": [
        {
          "output_type": "stream",
          "name": "stdout",
          "text": [
            "Masukkan nama kamu Hadi Nursalim\n",
            "Masukkan tempat dan tanggal lahir kamu Pemalang, 11 September 1989\n",
            "Masukkan profesi kamu Tutor Matematika\n",
            "Hallo semua, perkenalkan nama saya adalah  Hadi Nursalim, tempat tanggal lahir saya adalah  Pemalang, 11 September 1989, dan sekarang saya berprofesi sebagai  Tutor Matematika.\n"
          ]
        }
      ],
      "source": [
        "# Perkenalan Diri Menggunakan Google Collab\n",
        "\n",
        "nama = input(\"Masukkan nama kamu\")\n",
        "lahir = input(\"Masukkan tempat dan tanggal lahir kamu\")\n",
        "profesi = input(\"Masukkan profesi kamu\")\n",
        "\n",
        "print(\"Hallo semua, perkenalkan nama saya adalah %s, tempat tanggal lahir saya adalah %s, dan sekarang saya berprofesi sebagai %s.\" %(nama, lahir, profesi))"
      ]
    }
  ]
}